{
 "cells": [
  {
   "attachments": {},
   "cell_type": "markdown",
   "metadata": {},
   "source": [
    "# Spatial Data Management\n",
    "*Purpose*: Listing of numerous ways to process spatially-enabled data.\n",
    "\n",
    "**Note**\n",
    "> Best practices for Error and Exception handling not included.\n",
    "> Please review [appropriate resources](https://docs.python.org/3/tutorial/errors.html) for instructions of code structure."
   ]
  },
  {
   "cell_type": "code",
   "execution_count": null,
   "metadata": {},
   "outputs": [],
   "source": [
    "# !pip install pandas\n",
    "# !pip install geopandas\n",
    "# !pip install fiona\n",
    "# !pip install matplotlib\n",
    "# !pip install zipfile"
   ]
  }
 ],
 "metadata": {
  "language_info": {
   "name": "python"
  },
  "orig_nbformat": 4
 },
 "nbformat": 4,
 "nbformat_minor": 2
}
